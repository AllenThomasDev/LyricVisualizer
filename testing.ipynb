{
 "metadata": {
  "language_info": {
   "codemirror_mode": {
    "name": "ipython",
    "version": 3
   },
   "file_extension": ".py",
   "mimetype": "text/x-python",
   "name": "python",
   "nbconvert_exporter": "python",
   "pygments_lexer": "ipython3",
   "version": 3
  },
  "orig_nbformat": 2,
  "kernelspec": {
   "name": "python_defaultSpec_1595391764811",
   "display_name": "Python 3.8.3 64-bit"
  }
 },
 "nbformat": 4,
 "nbformat_minor": 2,
 "cells": [
  {
   "cell_type": "code",
   "execution_count": 17,
   "metadata": {},
   "outputs": [],
   "source": [
    "import plotly.express as px\n",
    "import dash\n",
    "import plotly.graph_objects as go\n",
    "import dash_html_components as html\n",
    "import dash_core_components as dcc\n",
    "from dash.dependencies import Input, Output\n",
    "import re\n",
    "from songs import songs\n",
    "import time\n"
   ]
  },
  {
   "cell_type": "code",
   "execution_count": 18,
   "metadata": {},
   "outputs": [],
   "source": [
    "from getlyric import pull_lyric\n",
    "x=pull_lyric(\" https://www.metrolyrics.com/thinking-about-you-lyrics-frank-ocean.html\")"
   ]
  },
  {
   "cell_type": "code",
   "execution_count": 19,
   "metadata": {},
   "outputs": [
    {
     "output_type": "execute_result",
     "data": {
      "text/plain": "        x    y    words      freq  occ\n4       1    1  tornado  0.003257    1\n5       2    2     flew  0.003257    1\n6       3    3   around  0.003257    1\n12      5    5     room  0.003257    1\n40      8    8     came  0.003257    1\n...   ...  ...      ...       ...  ...\n2424  306  220     oooh  0.039088   12\n2425  306  288     oooh  0.039088   12\n2426  306  289     oooh  0.039088   12\n2427  306  305     oooh  0.039088   12\n2428  306  306     oooh  0.039088   12\n\n[925 rows x 5 columns]",
      "text/html": "<div>\n<style scoped>\n    .dataframe tbody tr th:only-of-type {\n        vertical-align: middle;\n    }\n\n    .dataframe tbody tr th {\n        vertical-align: top;\n    }\n\n    .dataframe thead th {\n        text-align: right;\n    }\n</style>\n<table border=\"1\" class=\"dataframe\">\n  <thead>\n    <tr style=\"text-align: right;\">\n      <th></th>\n      <th>x</th>\n      <th>y</th>\n      <th>words</th>\n      <th>freq</th>\n      <th>occ</th>\n    </tr>\n  </thead>\n  <tbody>\n    <tr>\n      <th>4</th>\n      <td>1</td>\n      <td>1</td>\n      <td>tornado</td>\n      <td>0.003257</td>\n      <td>1</td>\n    </tr>\n    <tr>\n      <th>5</th>\n      <td>2</td>\n      <td>2</td>\n      <td>flew</td>\n      <td>0.003257</td>\n      <td>1</td>\n    </tr>\n    <tr>\n      <th>6</th>\n      <td>3</td>\n      <td>3</td>\n      <td>around</td>\n      <td>0.003257</td>\n      <td>1</td>\n    </tr>\n    <tr>\n      <th>12</th>\n      <td>5</td>\n      <td>5</td>\n      <td>room</td>\n      <td>0.003257</td>\n      <td>1</td>\n    </tr>\n    <tr>\n      <th>40</th>\n      <td>8</td>\n      <td>8</td>\n      <td>came</td>\n      <td>0.003257</td>\n      <td>1</td>\n    </tr>\n    <tr>\n      <th>...</th>\n      <td>...</td>\n      <td>...</td>\n      <td>...</td>\n      <td>...</td>\n      <td>...</td>\n    </tr>\n    <tr>\n      <th>2424</th>\n      <td>306</td>\n      <td>220</td>\n      <td>oooh</td>\n      <td>0.039088</td>\n      <td>12</td>\n    </tr>\n    <tr>\n      <th>2425</th>\n      <td>306</td>\n      <td>288</td>\n      <td>oooh</td>\n      <td>0.039088</td>\n      <td>12</td>\n    </tr>\n    <tr>\n      <th>2426</th>\n      <td>306</td>\n      <td>289</td>\n      <td>oooh</td>\n      <td>0.039088</td>\n      <td>12</td>\n    </tr>\n    <tr>\n      <th>2427</th>\n      <td>306</td>\n      <td>305</td>\n      <td>oooh</td>\n      <td>0.039088</td>\n      <td>12</td>\n    </tr>\n    <tr>\n      <th>2428</th>\n      <td>306</td>\n      <td>306</td>\n      <td>oooh</td>\n      <td>0.039088</td>\n      <td>12</td>\n    </tr>\n  </tbody>\n</table>\n<p>925 rows × 5 columns</p>\n</div>"
     },
     "metadata": {},
     "execution_count": 19
    }
   ],
   "source": [
    "x"
   ]
  },
  {
   "cell_type": "code",
   "execution_count": null,
   "metadata": {},
   "outputs": [],
   "source": []
  }
 ]
}